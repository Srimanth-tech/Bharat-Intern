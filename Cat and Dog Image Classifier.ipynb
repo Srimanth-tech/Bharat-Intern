{
 "cells": [
  {
   "cell_type": "code",
   "execution_count": 1,
   "id": "36b4c797",
   "metadata": {},
   "outputs": [
    {
     "name": "stdout",
     "output_type": "stream",
     "text": [
      "Found 8005 images belonging to 2 classes.\n",
      "Found 2023 images belonging to 2 classes.\n",
      "Epoch 1/10\n"
     ]
    },
    {
     "name": "stderr",
     "output_type": "stream",
     "text": [
      "C:\\Users\\Srimanth\\AppData\\Local\\Temp\\ipykernel_3144\\3265133758.py:38: UserWarning: `Model.fit_generator` is deprecated and will be removed in a future version. Please use `Model.fit`, which supports generators.\n",
      "  model.fit_generator(\n"
     ]
    },
    {
     "name": "stdout",
     "output_type": "stream",
     "text": [
      "251/251 [==============================] - 381s 2s/step - loss: 0.6986 - accuracy: 0.6087\n",
      "Epoch 2/10\n",
      "251/251 [==============================] - 333s 1s/step - loss: 0.5713 - accuracy: 0.6988\n",
      "Epoch 3/10\n",
      "251/251 [==============================] - 340s 1s/step - loss: 0.4862 - accuracy: 0.7579\n",
      "Epoch 4/10\n",
      "251/251 [==============================] - 341s 1s/step - loss: 0.4035 - accuracy: 0.8160\n",
      "Epoch 5/10\n",
      "251/251 [==============================] - 1163s 5s/step - loss: 0.2798 - accuracy: 0.8801\n",
      "Epoch 6/10\n",
      "251/251 [==============================] - 395s 2s/step - loss: 0.1410 - accuracy: 0.9450\n",
      "Epoch 7/10\n",
      "251/251 [==============================] - 406s 2s/step - loss: 0.0646 - accuracy: 0.9771\n",
      "Epoch 8/10\n",
      "251/251 [==============================] - 401s 2s/step - loss: 0.0434 - accuracy: 0.9866\n",
      "Epoch 9/10\n",
      "251/251 [==============================] - 407s 2s/step - loss: 0.0187 - accuracy: 0.9955\n",
      "Epoch 10/10\n",
      "251/251 [==============================] - 349s 1s/step - loss: 0.0186 - accuracy: 0.9953\n"
     ]
    },
    {
     "name": "stderr",
     "output_type": "stream",
     "text": [
      "C:\\Users\\Srimanth\\AppData\\Local\\Temp\\ipykernel_3144\\3265133758.py:44: UserWarning: `Model.evaluate_generator` is deprecated and will be removed in a future version. Please use `Model.evaluate`, which supports generators.\n",
      "  model.evaluate_generator(\n"
     ]
    }
   ],
   "source": [
    "# Importing the libraries\n",
    "import tensorflow as tf\n",
    "from tensorflow.keras.preprocessing.image import ImageDataGenerator\n",
    "from tensorflow.keras.models import Sequential\n",
    "from tensorflow.keras.layers import Conv2D, MaxPooling2D, Flatten, Dense\n",
    "import numpy as np\n",
    "from tensorflow.keras.preprocessing import image\n",
    "\n",
    "# Load the Kaggle dataset\n",
    "train_datagen = ImageDataGenerator(rescale=1./255)\n",
    "train_generator = train_datagen.flow_from_directory(\n",
    "    'C:/Users/Srimanth/OneDrive/Documents/Bharat Intern/Cat and Dog Image Classifier/training_set',\n",
    "    target_size=(224, 224),\n",
    "    batch_size=32,\n",
    "    class_mode='binary')\n",
    "\n",
    "test_datagen = ImageDataGenerator(rescale=1./255)\n",
    "test_generator = test_datagen.flow_from_directory(\n",
    "    'C:/Users/Srimanth/OneDrive/Documents/Bharat Intern/Cat and Dog Image Classifier/test_set',\n",
    "    target_size=(224, 224),\n",
    "    batch_size=32,\n",
    "    class_mode='binary')\n",
    "\n",
    "# Create the machine learning model\n",
    "model = Sequential()\n",
    "model.add(Conv2D(32, (3, 3), activation='relu', input_shape=(224, 224, 3)))\n",
    "model.add(MaxPooling2D((2, 2)))\n",
    "model.add(Conv2D(64, (3, 3), activation='relu'))\n",
    "model.add(MaxPooling2D((2, 2)))\n",
    "model.add(Conv2D(128, (3, 3), activation='relu'))\n",
    "model.add(MaxPooling2D((2, 2)))\n",
    "model.add(Flatten())\n",
    "model.add(Dense(512, activation='relu'))\n",
    "model.add(Dense(1, activation='sigmoid'))\n",
    "\n",
    "# Compile the model\n",
    "model.compile(optimizer='adam', loss='binary_crossentropy', metrics=['accuracy'])\n",
    "\n",
    "# Train the model\n",
    "model.fit_generator(\n",
    "    train_generator,\n",
    "    steps_per_epoch=len(train_generator),\n",
    "    epochs=10)\n",
    "\n",
    "# Evaluate the model\n",
    "model.evaluate_generator(\n",
    "    test_generator,\n",
    "    steps=len(test_generator))\n",
    "\n",
    "# Save the model\n",
    "model.save('cat_and_dog_classifier.h5')"
   ]
  },
  {
   "cell_type": "code",
   "execution_count": 2,
   "id": "315afa50",
   "metadata": {},
   "outputs": [
    {
     "name": "stdout",
     "output_type": "stream",
     "text": [
      "1/1 [==============================] - 0s 175ms/step\n",
      "cat\n"
     ]
    }
   ],
   "source": [
    "\n",
    "img = image.load_img(r\"C:\\Users\\Srimanth\\OneDrive\\Documents\\Bharat Intern\\Cat and Dog Image Classifier\\test_set\\cats\\cat.4061.jpg\", target_size=(224, 224))\n",
    "img = image.img_to_array(img)\n",
    "img = np.expand_dims(img, axis=0)\n",
    "img /= 255.0\n",
    "\n",
    "# Load the pre-trained model\n",
    "model = tf.keras.models.load_model('cat_and_dog_classifier.h5')\n",
    "\n",
    "# Make a prediction\n",
    "prediction = model.predict(img)\n",
    "\n",
    "# Convert the prediction to a label\n",
    "label = \"cat\" if prediction[0][0] < 0.5 else \"dog\"\n",
    "\n",
    "print(label)"
   ]
  },
  {
   "cell_type": "code",
   "execution_count": null,
   "id": "6481c194",
   "metadata": {},
   "outputs": [],
   "source": []
  }
 ],
 "metadata": {
  "kernelspec": {
   "display_name": "Python 3 (ipykernel)",
   "language": "python",
   "name": "python3"
  },
  "language_info": {
   "codemirror_mode": {
    "name": "ipython",
    "version": 3
   },
   "file_extension": ".py",
   "mimetype": "text/x-python",
   "name": "python",
   "nbconvert_exporter": "python",
   "pygments_lexer": "ipython3",
   "version": "3.9.13"
  }
 },
 "nbformat": 4,
 "nbformat_minor": 5
}
